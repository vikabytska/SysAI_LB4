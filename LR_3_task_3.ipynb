{
 "cells": [
  {
   "cell_type": "markdown",
   "id": "25078e2e-588c-48c0-bb58-d2ac394ae8ad",
   "metadata": {},
   "source": [
    "Завдання 3"
   ]
  },
  {
   "cell_type": "code",
   "execution_count": 27,
   "id": "d0de4faa-0b84-4d3d-99f6-e2e6eef7db8c",
   "metadata": {},
   "outputs": [],
   "source": [
    "import numpy as np\n",
    "from sklearn import linear_model\n",
    "import sklearn.metrics as sm\n",
    "from sklearn.preprocessing import PolynomialFeatures"
   ]
  },
  {
   "cell_type": "code",
   "execution_count": 28,
   "id": "1c4469d8-7444-4e4a-bf5d-350644c6d6c6",
   "metadata": {},
   "outputs": [],
   "source": [
    "# Вхідний файл, який містить дані\n",
    "input_file = 'data_multivar_regr.txt'"
   ]
  },
  {
   "cell_type": "code",
   "execution_count": 29,
   "id": "0041a0b3-7a97-443e-af76-ed92e2565688",
   "metadata": {},
   "outputs": [],
   "source": [
    "# Завантаження даних\n",
    "data = np.loadtxt(input_file, delimiter=',')\n",
    "X, y = data[:, :-1], data[:, -1]"
   ]
  },
  {
   "cell_type": "code",
   "execution_count": 30,
   "id": "c0785750-72a7-4568-bfba-a4421eda9ef7",
   "metadata": {},
   "outputs": [],
   "source": [
    "# Розбивка даних на навчальний та тестовий набори\n",
    "num_training = int(0.8 * len(X))\n",
    "num_test = len(X) - num_training"
   ]
  },
  {
   "cell_type": "code",
   "execution_count": 31,
   "id": "235831c1-124a-4fda-8530-9707bef47122",
   "metadata": {},
   "outputs": [],
   "source": [
    "# Тренувальні дані\n",
    "X_train, y_train = X[:num_training], y[:num_training]\n",
    "# Тестові дані\n",
    "X_test, y_test = X[num_training:], y[num_training:]"
   ]
  },
  {
   "cell_type": "code",
   "execution_count": 32,
   "id": "7f8d28df-4bfe-4a0b-a1ef-e46866a1c488",
   "metadata": {},
   "outputs": [],
   "source": [
    "# Поліноміальна регресія\n",
    "polynomial = PolynomialFeatures(degree=10)\n",
    "X_train_transformed = polynomial.fit_transform(X_train)\n",
    "datapoint = [[7.75, 6.35, 5.56]]\n",
    "poly_datapoint = polynomial.fit_transform(datapoint)"
   ]
  },
  {
   "cell_type": "code",
   "execution_count": 33,
   "id": "b84173f4-c9ae-4785-93ae-5d8f9dbe24a4",
   "metadata": {},
   "outputs": [
    {
     "name": "stdout",
     "output_type": "stream",
     "text": [
      "\n",
      "Linear regression:\n",
      " [36.05286276]\n",
      "\n",
      "Polynomial regression:\n",
      " [41.45809165]\n"
     ]
    }
   ],
   "source": [
    "# Створення об'єкта полілінійного регресора\n",
    "poly_linear_model = linear_model.LinearRegression()\n",
    "poly_linear_model.fit(X_train_transformed, y_train)\n",
    "# Створення об'єкта лінійного регресора\n",
    "linear_regressor = linear_model.LinearRegression()\n",
    "linear_regressor.fit(X_train, y_train)\n",
    "print(\"\\nLinear regression:\\n\",\n",
    "linear_regressor.predict(datapoint))\n",
    "print(\"\\nPolynomial regression:\\n\",\n",
    "poly_linear_model.predict(poly_datapoint))"
   ]
  },
  {
   "cell_type": "code",
   "execution_count": 34,
   "id": "02395169-e585-4df7-8b97-bcb1fead334d",
   "metadata": {},
   "outputs": [
    {
     "name": "stdout",
     "output_type": "stream",
     "text": [
      "\n",
      "Linear regressor performance:\n",
      "Mean absolute error = 3.58\n",
      "Mean squared error = 20.31\n",
      "Median absolute error = 2.99\n",
      "Explain variance score = 0.86\n",
      "R2 score = 0.86\n"
     ]
    }
   ],
   "source": [
    "# Прогнозування результату\n",
    "y_test_pred = linear_regressor.predict(X_test)\n",
    "print(\"\\nLinear regressor performance:\")\n",
    "print(\"Mean absolute error =\",\n",
    "round(sm.mean_absolute_error(y_test, y_test_pred), 2))\n",
    "print(\"Mean squared error =\",\n",
    "round(sm.mean_squared_error(y_test, y_test_pred), 2))\n",
    "print(\"Median absolute error =\",\n",
    "round(sm.median_absolute_error(y_test, y_test_pred), 2))\n",
    "print(\"Explain variance score =\",\n",
    "round(sm.explained_variance_score(y_test, y_test_pred), 2))\n",
    "print(\"R2 score =\", round(sm.r2_score(y_test, y_test_pred), 2))"
   ]
  }
 ],
 "metadata": {
  "kernelspec": {
   "display_name": "Python 3 (ipykernel)",
   "language": "python",
   "name": "python3"
  },
  "language_info": {
   "codemirror_mode": {
    "name": "ipython",
    "version": 3
   },
   "file_extension": ".py",
   "mimetype": "text/x-python",
   "name": "python",
   "nbconvert_exporter": "python",
   "pygments_lexer": "ipython3",
   "version": "3.12.4"
  }
 },
 "nbformat": 4,
 "nbformat_minor": 5
}
